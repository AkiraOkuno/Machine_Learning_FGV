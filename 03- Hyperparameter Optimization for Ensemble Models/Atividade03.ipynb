{
 "cells": [
  {
   "cell_type": "markdown",
   "metadata": {},
   "source": [
    "# MACHINE LEARNING - Atividade 03\n",
    "\n",
    "## Spooky Authors Prediction - NLP"
   ]
  },
  {
   "cell_type": "code",
   "execution_count": 1,
   "metadata": {},
   "outputs": [],
   "source": [
    "import pandas as pd\n",
    "import matplotlib.pyplot as plt\n",
    "import numpy as np\n",
    "% matplotlib inline"
   ]
  },
  {
   "cell_type": "code",
   "execution_count": 2,
   "metadata": {},
   "outputs": [],
   "source": [
    "import warnings\n",
    "warnings.filterwarnings('ignore')"
   ]
  },
  {
   "cell_type": "code",
   "execution_count": 143,
   "metadata": {},
   "outputs": [],
   "source": [
    "file = pd.read_csv(r\"C:\\Users\\Helio\\Documents\\ALL THAT MATTERS\\5 SEMESTRE - EESP\\MACHINE LEARNING\\train.csv\")"
   ]
  },
  {
   "cell_type": "code",
   "execution_count": 144,
   "metadata": {},
   "outputs": [],
   "source": [
    "data = file.copy()"
   ]
  },
  {
   "cell_type": "code",
   "execution_count": 145,
   "metadata": {},
   "outputs": [
    {
     "data": {
      "text/html": [
       "<div>\n",
       "<style scoped>\n",
       "    .dataframe tbody tr th:only-of-type {\n",
       "        vertical-align: middle;\n",
       "    }\n",
       "\n",
       "    .dataframe tbody tr th {\n",
       "        vertical-align: top;\n",
       "    }\n",
       "\n",
       "    .dataframe thead th {\n",
       "        text-align: right;\n",
       "    }\n",
       "</style>\n",
       "<table border=\"1\" class=\"dataframe\">\n",
       "  <thead>\n",
       "    <tr style=\"text-align: right;\">\n",
       "      <th></th>\n",
       "      <th>id</th>\n",
       "      <th>text</th>\n",
       "      <th>author</th>\n",
       "    </tr>\n",
       "  </thead>\n",
       "  <tbody>\n",
       "    <tr>\n",
       "      <th>0</th>\n",
       "      <td>id26305</td>\n",
       "      <td>This process, however, afforded me no means of...</td>\n",
       "      <td>EAP</td>\n",
       "    </tr>\n",
       "    <tr>\n",
       "      <th>1</th>\n",
       "      <td>id17569</td>\n",
       "      <td>It never once occurred to me that the fumbling...</td>\n",
       "      <td>HPL</td>\n",
       "    </tr>\n",
       "    <tr>\n",
       "      <th>2</th>\n",
       "      <td>id11008</td>\n",
       "      <td>In his left hand was a gold snuff box, from wh...</td>\n",
       "      <td>EAP</td>\n",
       "    </tr>\n",
       "    <tr>\n",
       "      <th>3</th>\n",
       "      <td>id27763</td>\n",
       "      <td>How lovely is spring As we looked from Windsor...</td>\n",
       "      <td>MWS</td>\n",
       "    </tr>\n",
       "    <tr>\n",
       "      <th>4</th>\n",
       "      <td>id12958</td>\n",
       "      <td>Finding nothing else, not even gold, the Super...</td>\n",
       "      <td>HPL</td>\n",
       "    </tr>\n",
       "  </tbody>\n",
       "</table>\n",
       "</div>"
      ],
      "text/plain": [
       "        id                                               text author\n",
       "0  id26305  This process, however, afforded me no means of...    EAP\n",
       "1  id17569  It never once occurred to me that the fumbling...    HPL\n",
       "2  id11008  In his left hand was a gold snuff box, from wh...    EAP\n",
       "3  id27763  How lovely is spring As we looked from Windsor...    MWS\n",
       "4  id12958  Finding nothing else, not even gold, the Super...    HPL"
      ]
     },
     "execution_count": 145,
     "metadata": {},
     "output_type": "execute_result"
    }
   ],
   "source": [
    "data.head()"
   ]
  },
  {
   "cell_type": "code",
   "execution_count": 111,
   "metadata": {},
   "outputs": [
    {
     "name": "stdout",
     "output_type": "stream",
     "text": [
      "<class 'pandas.core.frame.DataFrame'>\n",
      "RangeIndex: 19579 entries, 0 to 19578\n",
      "Data columns (total 3 columns):\n",
      "id        19579 non-null object\n",
      "text      19579 non-null object\n",
      "author    19579 non-null object\n",
      "dtypes: object(3)\n",
      "memory usage: 459.0+ KB\n"
     ]
    }
   ],
   "source": [
    "data.info()"
   ]
  },
  {
   "cell_type": "markdown",
   "metadata": {},
   "source": [
    "## Feature Engineering"
   ]
  },
  {
   "cell_type": "code",
   "execution_count": 146,
   "metadata": {},
   "outputs": [],
   "source": [
    "data['count_words'] = data['text'].apply(lambda x:len(str(x).split()))\n",
    "data['count_letters'] = data['text'].apply(lambda x:len(x))\n",
    "data['unique_words'] = data['text'].apply(lambda x:len(set(str(x).split())))"
   ]
  },
  {
   "cell_type": "code",
   "execution_count": 147,
   "metadata": {},
   "outputs": [],
   "source": [
    "from nltk.corpus import stopwords\n",
    "stop_words = set(stopwords.words(\"english\"))"
   ]
  },
  {
   "cell_type": "code",
   "execution_count": 148,
   "metadata": {},
   "outputs": [],
   "source": [
    "data[\"count_stopwords\"] = data[\"text\"].apply(\n",
    "    lambda x: len([w for w in str(x).lower().split() if w in stop_words]))"
   ]
  },
  {
   "cell_type": "code",
   "execution_count": 149,
   "metadata": {},
   "outputs": [],
   "source": [
    "data['uppercase'] = data['text'].apply(lambda x:len([w for w in str(x).split() if w.isupper()]))"
   ]
  },
  {
   "cell_type": "code",
   "execution_count": 150,
   "metadata": {},
   "outputs": [],
   "source": [
    "data['avg_length'] = data['text'].apply(lambda x:np.mean([len(w) for w in str(x).split()]))\n",
    "data['std_length'] = data['text'].apply(lambda x:np.std([len(w) for w in str(x).split()]))"
   ]
  },
  {
   "cell_type": "code",
   "execution_count": 117,
   "metadata": {},
   "outputs": [
    {
     "data": {
      "text/html": [
       "<div>\n",
       "<style scoped>\n",
       "    .dataframe tbody tr th:only-of-type {\n",
       "        vertical-align: middle;\n",
       "    }\n",
       "\n",
       "    .dataframe tbody tr th {\n",
       "        vertical-align: top;\n",
       "    }\n",
       "\n",
       "    .dataframe thead th {\n",
       "        text-align: right;\n",
       "    }\n",
       "</style>\n",
       "<table border=\"1\" class=\"dataframe\">\n",
       "  <thead>\n",
       "    <tr style=\"text-align: right;\">\n",
       "      <th></th>\n",
       "      <th>id</th>\n",
       "      <th>text</th>\n",
       "      <th>author</th>\n",
       "      <th>count_words</th>\n",
       "      <th>count_letters</th>\n",
       "      <th>unique_words</th>\n",
       "      <th>count_stopwords</th>\n",
       "      <th>uppercase</th>\n",
       "      <th>avg_length</th>\n",
       "      <th>std_length</th>\n",
       "    </tr>\n",
       "  </thead>\n",
       "  <tbody>\n",
       "    <tr>\n",
       "      <th>0</th>\n",
       "      <td>id26305</td>\n",
       "      <td>This process, however, afforded me no means of...</td>\n",
       "      <td>EAP</td>\n",
       "      <td>41</td>\n",
       "      <td>231</td>\n",
       "      <td>35</td>\n",
       "      <td>19</td>\n",
       "      <td>2</td>\n",
       "      <td>4.658537</td>\n",
       "      <td>2.637532</td>\n",
       "    </tr>\n",
       "    <tr>\n",
       "      <th>1</th>\n",
       "      <td>id17569</td>\n",
       "      <td>It never once occurred to me that the fumbling...</td>\n",
       "      <td>HPL</td>\n",
       "      <td>14</td>\n",
       "      <td>71</td>\n",
       "      <td>14</td>\n",
       "      <td>8</td>\n",
       "      <td>0</td>\n",
       "      <td>4.142857</td>\n",
       "      <td>2.325546</td>\n",
       "    </tr>\n",
       "    <tr>\n",
       "      <th>2</th>\n",
       "      <td>id11008</td>\n",
       "      <td>In his left hand was a gold snuff box, from wh...</td>\n",
       "      <td>EAP</td>\n",
       "      <td>36</td>\n",
       "      <td>200</td>\n",
       "      <td>32</td>\n",
       "      <td>16</td>\n",
       "      <td>0</td>\n",
       "      <td>4.583333</td>\n",
       "      <td>2.639181</td>\n",
       "    </tr>\n",
       "    <tr>\n",
       "      <th>3</th>\n",
       "      <td>id27763</td>\n",
       "      <td>How lovely is spring As we looked from Windsor...</td>\n",
       "      <td>MWS</td>\n",
       "      <td>34</td>\n",
       "      <td>206</td>\n",
       "      <td>32</td>\n",
       "      <td>13</td>\n",
       "      <td>0</td>\n",
       "      <td>5.088235</td>\n",
       "      <td>2.227735</td>\n",
       "    </tr>\n",
       "    <tr>\n",
       "      <th>4</th>\n",
       "      <td>id12958</td>\n",
       "      <td>Finding nothing else, not even gold, the Super...</td>\n",
       "      <td>HPL</td>\n",
       "      <td>27</td>\n",
       "      <td>174</td>\n",
       "      <td>25</td>\n",
       "      <td>11</td>\n",
       "      <td>0</td>\n",
       "      <td>5.481481</td>\n",
       "      <td>3.315177</td>\n",
       "    </tr>\n",
       "  </tbody>\n",
       "</table>\n",
       "</div>"
      ],
      "text/plain": [
       "        id                                               text author  \\\n",
       "0  id26305  This process, however, afforded me no means of...    EAP   \n",
       "1  id17569  It never once occurred to me that the fumbling...    HPL   \n",
       "2  id11008  In his left hand was a gold snuff box, from wh...    EAP   \n",
       "3  id27763  How lovely is spring As we looked from Windsor...    MWS   \n",
       "4  id12958  Finding nothing else, not even gold, the Super...    HPL   \n",
       "\n",
       "   count_words  count_letters  unique_words  count_stopwords  uppercase  \\\n",
       "0           41            231            35               19          2   \n",
       "1           14             71            14                8          0   \n",
       "2           36            200            32               16          0   \n",
       "3           34            206            32               13          0   \n",
       "4           27            174            25               11          0   \n",
       "\n",
       "   avg_length  std_length  \n",
       "0    4.658537    2.637532  \n",
       "1    4.142857    2.325546  \n",
       "2    4.583333    2.639181  \n",
       "3    5.088235    2.227735  \n",
       "4    5.481481    3.315177  "
      ]
     },
     "execution_count": 117,
     "metadata": {},
     "output_type": "execute_result"
    }
   ],
   "source": [
    "data.head()"
   ]
  },
  {
   "cell_type": "code",
   "execution_count": 118,
   "metadata": {},
   "outputs": [],
   "source": [
    "import seaborn as sns"
   ]
  },
  {
   "cell_type": "code",
   "execution_count": 119,
   "metadata": {},
   "outputs": [
    {
     "data": {
      "text/plain": [
       "<matplotlib.axes._subplots.AxesSubplot at 0x1bf67fd1cc0>"
      ]
     },
     "execution_count": 119,
     "metadata": {},
     "output_type": "execute_result"
    },
    {
     "data": {
      "image/png": "[encoded data removed]",
      "text/plain": [
       "<Figure size 432x288 with 1 Axes>"
      ]
     },
     "metadata": {},
     "output_type": "display_data"
    }
   ],
   "source": [
    "sns.violinplot(x=\"author\", y=\"count_words\", data=data)"
   ]
  },
  {
   "cell_type": "code",
   "execution_count": 120,
   "metadata": {},
   "outputs": [
    {
     "data": {
      "text/plain": [
       "<matplotlib.axes._subplots.AxesSubplot at 0x1bf67fd57b8>"
      ]
     },
     "execution_count": 120,
     "metadata": {},
     "output_type": "execute_result"
    },
    {
     "data": {
      "image/png": "[encoded data removed]",
      "text/plain": [
       "<Figure size 432x288 with 1 Axes>"
      ]
     },
     "metadata": {},
     "output_type": "display_data"
    }
   ],
   "source": [
    "sns.violinplot(x=\"author\", y=\"count_words\", data=data[data['count_words']<400])"
   ]
  },
  {
   "cell_type": "code",
   "execution_count": 121,
   "metadata": {},
   "outputs": [
    {
     "data": {
      "text/plain": [
       "<matplotlib.axes._subplots.AxesSubplot at 0x1bf68052f60>"
      ]
     },
     "execution_count": 121,
     "metadata": {},
     "output_type": "execute_result"
    },
    {
     "data": {
      "image/png": "[encoded data removed]",
      "text/plain": [
       "<Figure size 432x288 with 1 Axes>"
      ]
     },
     "metadata": {},
     "output_type": "display_data"
    }
   ],
   "source": [
    "sns.violinplot(x=\"author\", y=\"unique_words\", data=data)"
   ]
  },
  {
   "cell_type": "code",
   "execution_count": 122,
   "metadata": {},
   "outputs": [
    {
     "data": {
      "text/plain": [
       "<matplotlib.axes._subplots.AxesSubplot at 0x1bf68099d30>"
      ]
     },
     "execution_count": 122,
     "metadata": {},
     "output_type": "execute_result"
    },
    {
     "data": {
      "image/png": "[encoded data removed]",
      "text/plain": [
       "<Figure size 432x288 with 1 Axes>"
      ]
     },
     "metadata": {},
     "output_type": "display_data"
    }
   ],
   "source": [
    "sns.violinplot(x=\"author\", y=\"avg_length\", data=data)"
   ]
  },
  {
   "cell_type": "code",
   "execution_count": 123,
   "metadata": {},
   "outputs": [
    {
     "data": {
      "text/plain": [
       "<matplotlib.axes._subplots.AxesSubplot at 0x1bf680ab668>"
      ]
     },
     "execution_count": 123,
     "metadata": {},
     "output_type": "execute_result"
    },
    {
     "data": {
      "image/png": "[encoded data removed]",
      "text/plain": [
       "<Figure size 432x288 with 1 Axes>"
      ]
     },
     "metadata": {},
     "output_type": "display_data"
    }
   ],
   "source": [
    "sns.violinplot(x=\"author\", y=\"std_length\", data=data)"
   ]
  },
  {
   "cell_type": "code",
   "execution_count": 124,
   "metadata": {},
   "outputs": [
    {
     "data": {
      "text/html": [
       "<div>\n",
       "<style scoped>\n",
       "    .dataframe tbody tr th:only-of-type {\n",
       "        vertical-align: middle;\n",
       "    }\n",
       "\n",
       "    .dataframe tbody tr th {\n",
       "        vertical-align: top;\n",
       "    }\n",
       "\n",
       "    .dataframe thead th {\n",
       "        text-align: right;\n",
       "    }\n",
       "</style>\n",
       "<table border=\"1\" class=\"dataframe\">\n",
       "  <thead>\n",
       "    <tr style=\"text-align: right;\">\n",
       "      <th></th>\n",
       "      <th>count_words</th>\n",
       "      <th>count_letters</th>\n",
       "      <th>unique_words</th>\n",
       "      <th>count_stopwords</th>\n",
       "      <th>uppercase</th>\n",
       "      <th>avg_length</th>\n",
       "      <th>std_length</th>\n",
       "    </tr>\n",
       "  </thead>\n",
       "  <tbody>\n",
       "    <tr>\n",
       "      <th>count</th>\n",
       "      <td>19579.000000</td>\n",
       "      <td>19579.000000</td>\n",
       "      <td>19579.000000</td>\n",
       "      <td>19579.000000</td>\n",
       "      <td>19579.000000</td>\n",
       "      <td>19579.000000</td>\n",
       "      <td>19579.000000</td>\n",
       "    </tr>\n",
       "    <tr>\n",
       "      <th>mean</th>\n",
       "      <td>26.730477</td>\n",
       "      <td>149.057408</td>\n",
       "      <td>23.136115</td>\n",
       "      <td>13.057817</td>\n",
       "      <td>0.599213</td>\n",
       "      <td>4.624827</td>\n",
       "      <td>2.447325</td>\n",
       "    </tr>\n",
       "    <tr>\n",
       "      <th>std</th>\n",
       "      <td>19.048353</td>\n",
       "      <td>106.800189</td>\n",
       "      <td>13.457922</td>\n",
       "      <td>9.773517</td>\n",
       "      <td>0.994366</td>\n",
       "      <td>0.589194</td>\n",
       "      <td>0.532566</td>\n",
       "    </tr>\n",
       "    <tr>\n",
       "      <th>min</th>\n",
       "      <td>2.000000</td>\n",
       "      <td>21.000000</td>\n",
       "      <td>2.000000</td>\n",
       "      <td>0.000000</td>\n",
       "      <td>0.000000</td>\n",
       "      <td>2.000000</td>\n",
       "      <td>0.000000</td>\n",
       "    </tr>\n",
       "    <tr>\n",
       "      <th>25%</th>\n",
       "      <td>15.000000</td>\n",
       "      <td>81.000000</td>\n",
       "      <td>14.000000</td>\n",
       "      <td>7.000000</td>\n",
       "      <td>0.000000</td>\n",
       "      <td>4.250000</td>\n",
       "      <td>2.116038</td>\n",
       "    </tr>\n",
       "    <tr>\n",
       "      <th>50%</th>\n",
       "      <td>23.000000</td>\n",
       "      <td>128.000000</td>\n",
       "      <td>21.000000</td>\n",
       "      <td>11.000000</td>\n",
       "      <td>0.000000</td>\n",
       "      <td>4.590909</td>\n",
       "      <td>2.441941</td>\n",
       "    </tr>\n",
       "    <tr>\n",
       "      <th>75%</th>\n",
       "      <td>34.000000</td>\n",
       "      <td>191.000000</td>\n",
       "      <td>30.000000</td>\n",
       "      <td>17.000000</td>\n",
       "      <td>1.000000</td>\n",
       "      <td>4.952381</td>\n",
       "      <td>2.773713</td>\n",
       "    </tr>\n",
       "    <tr>\n",
       "      <th>max</th>\n",
       "      <td>861.000000</td>\n",
       "      <td>4663.000000</td>\n",
       "      <td>429.000000</td>\n",
       "      <td>435.000000</td>\n",
       "      <td>27.000000</td>\n",
       "      <td>11.000000</td>\n",
       "      <td>14.430629</td>\n",
       "    </tr>\n",
       "  </tbody>\n",
       "</table>\n",
       "</div>"
      ],
      "text/plain": [
       "        count_words  count_letters  unique_words  count_stopwords  \\\n",
       "count  19579.000000   19579.000000  19579.000000     19579.000000   \n",
       "mean      26.730477     149.057408     23.136115        13.057817   \n",
       "std       19.048353     106.800189     13.457922         9.773517   \n",
       "min        2.000000      21.000000      2.000000         0.000000   \n",
       "25%       15.000000      81.000000     14.000000         7.000000   \n",
       "50%       23.000000     128.000000     21.000000        11.000000   \n",
       "75%       34.000000     191.000000     30.000000        17.000000   \n",
       "max      861.000000    4663.000000    429.000000       435.000000   \n",
       "\n",
       "          uppercase    avg_length    std_length  \n",
       "count  19579.000000  19579.000000  19579.000000  \n",
       "mean       0.599213      4.624827      2.447325  \n",
       "std        0.994366      0.589194      0.532566  \n",
       "min        0.000000      2.000000      0.000000  \n",
       "25%        0.000000      4.250000      2.116038  \n",
       "50%        0.000000      4.590909      2.441941  \n",
       "75%        1.000000      4.952381      2.773713  \n",
       "max       27.000000     11.000000     14.430629  "
      ]
     },
     "execution_count": 124,
     "metadata": {},
     "output_type": "execute_result"
    }
   ],
   "source": [
    "data.describe()"
   ]
  },
  {
   "cell_type": "code",
   "execution_count": 125,
   "metadata": {},
   "outputs": [
    {
     "data": {
      "text/html": [
       "<div>\n",
       "<style scoped>\n",
       "    .dataframe tbody tr th:only-of-type {\n",
       "        vertical-align: middle;\n",
       "    }\n",
       "\n",
       "    .dataframe tbody tr th {\n",
       "        vertical-align: top;\n",
       "    }\n",
       "\n",
       "    .dataframe thead th {\n",
       "        text-align: right;\n",
       "    }\n",
       "</style>\n",
       "<table border=\"1\" class=\"dataframe\">\n",
       "  <thead>\n",
       "    <tr style=\"text-align: right;\">\n",
       "      <th></th>\n",
       "      <th>count_words</th>\n",
       "      <th>count_letters</th>\n",
       "      <th>unique_words</th>\n",
       "      <th>count_stopwords</th>\n",
       "      <th>uppercase</th>\n",
       "      <th>avg_length</th>\n",
       "      <th>std_length</th>\n",
       "    </tr>\n",
       "  </thead>\n",
       "  <tbody>\n",
       "    <tr>\n",
       "      <th>count</th>\n",
       "      <td>7900.000000</td>\n",
       "      <td>7900.000000</td>\n",
       "      <td>7900.000000</td>\n",
       "      <td>7900.000000</td>\n",
       "      <td>7900.000000</td>\n",
       "      <td>7900.000000</td>\n",
       "      <td>7900.000000</td>\n",
       "    </tr>\n",
       "    <tr>\n",
       "      <th>mean</th>\n",
       "      <td>25.442405</td>\n",
       "      <td>142.225949</td>\n",
       "      <td>21.894937</td>\n",
       "      <td>12.617722</td>\n",
       "      <td>0.553291</td>\n",
       "      <td>4.644952</td>\n",
       "      <td>2.522285</td>\n",
       "    </tr>\n",
       "    <tr>\n",
       "      <th>std</th>\n",
       "      <td>18.567706</td>\n",
       "      <td>105.751334</td>\n",
       "      <td>13.727397</td>\n",
       "      <td>9.540922</td>\n",
       "      <td>0.892966</td>\n",
       "      <td>0.631340</td>\n",
       "      <td>0.587794</td>\n",
       "    </tr>\n",
       "    <tr>\n",
       "      <th>min</th>\n",
       "      <td>2.000000</td>\n",
       "      <td>21.000000</td>\n",
       "      <td>2.000000</td>\n",
       "      <td>0.000000</td>\n",
       "      <td>0.000000</td>\n",
       "      <td>2.000000</td>\n",
       "      <td>0.000000</td>\n",
       "    </tr>\n",
       "    <tr>\n",
       "      <th>25%</th>\n",
       "      <td>12.000000</td>\n",
       "      <td>68.000000</td>\n",
       "      <td>12.000000</td>\n",
       "      <td>6.000000</td>\n",
       "      <td>0.000000</td>\n",
       "      <td>4.250000</td>\n",
       "      <td>2.173051</td>\n",
       "    </tr>\n",
       "    <tr>\n",
       "      <th>50%</th>\n",
       "      <td>21.000000</td>\n",
       "      <td>115.000000</td>\n",
       "      <td>19.000000</td>\n",
       "      <td>10.000000</td>\n",
       "      <td>0.000000</td>\n",
       "      <td>4.600000</td>\n",
       "      <td>2.520787</td>\n",
       "    </tr>\n",
       "    <tr>\n",
       "      <th>75%</th>\n",
       "      <td>33.000000</td>\n",
       "      <td>186.000000</td>\n",
       "      <td>29.000000</td>\n",
       "      <td>17.000000</td>\n",
       "      <td>1.000000</td>\n",
       "      <td>5.000000</td>\n",
       "      <td>2.867442</td>\n",
       "    </tr>\n",
       "    <tr>\n",
       "      <th>max</th>\n",
       "      <td>267.000000</td>\n",
       "      <td>1533.000000</td>\n",
       "      <td>155.000000</td>\n",
       "      <td>135.000000</td>\n",
       "      <td>15.000000</td>\n",
       "      <td>11.000000</td>\n",
       "      <td>14.430629</td>\n",
       "    </tr>\n",
       "  </tbody>\n",
       "</table>\n",
       "</div>"
      ],
      "text/plain": [
       "       count_words  count_letters  unique_words  count_stopwords    uppercase  \\\n",
       "count  7900.000000    7900.000000   7900.000000      7900.000000  7900.000000   \n",
       "mean     25.442405     142.225949     21.894937        12.617722     0.553291   \n",
       "std      18.567706     105.751334     13.727397         9.540922     0.892966   \n",
       "min       2.000000      21.000000      2.000000         0.000000     0.000000   \n",
       "25%      12.000000      68.000000     12.000000         6.000000     0.000000   \n",
       "50%      21.000000     115.000000     19.000000        10.000000     0.000000   \n",
       "75%      33.000000     186.000000     29.000000        17.000000     1.000000   \n",
       "max     267.000000    1533.000000    155.000000       135.000000    15.000000   \n",
       "\n",
       "        avg_length   std_length  \n",
       "count  7900.000000  7900.000000  \n",
       "mean      4.644952     2.522285  \n",
       "std       0.631340     0.587794  \n",
       "min       2.000000     0.000000  \n",
       "25%       4.250000     2.173051  \n",
       "50%       4.600000     2.520787  \n",
       "75%       5.000000     2.867442  \n",
       "max      11.000000    14.430629  "
      ]
     },
     "execution_count": 125,
     "metadata": {},
     "output_type": "execute_result"
    }
   ],
   "source": [
    "data[data['author']==\"EAP\"].describe()"
   ]
  },
  {
   "cell_type": "code",
   "execution_count": 126,
   "metadata": {},
   "outputs": [
    {
     "data": {
      "text/html": [
       "<div>\n",
       "<style scoped>\n",
       "    .dataframe tbody tr th:only-of-type {\n",
       "        vertical-align: middle;\n",
       "    }\n",
       "\n",
       "    .dataframe tbody tr th {\n",
       "        vertical-align: top;\n",
       "    }\n",
       "\n",
       "    .dataframe thead th {\n",
       "        text-align: right;\n",
       "    }\n",
       "</style>\n",
       "<table border=\"1\" class=\"dataframe\">\n",
       "  <thead>\n",
       "    <tr style=\"text-align: right;\">\n",
       "      <th></th>\n",
       "      <th>count_words</th>\n",
       "      <th>count_letters</th>\n",
       "      <th>unique_words</th>\n",
       "      <th>count_stopwords</th>\n",
       "      <th>uppercase</th>\n",
       "      <th>avg_length</th>\n",
       "      <th>std_length</th>\n",
       "    </tr>\n",
       "  </thead>\n",
       "  <tbody>\n",
       "    <tr>\n",
       "      <th>count</th>\n",
       "      <td>6044.000000</td>\n",
       "      <td>6044.000000</td>\n",
       "      <td>6044.000000</td>\n",
       "      <td>6044.000000</td>\n",
       "      <td>6044.000000</td>\n",
       "      <td>6044.000000</td>\n",
       "      <td>6044.000000</td>\n",
       "    </tr>\n",
       "    <tr>\n",
       "      <th>mean</th>\n",
       "      <td>27.417273</td>\n",
       "      <td>151.659828</td>\n",
       "      <td>23.544672</td>\n",
       "      <td>13.742224</td>\n",
       "      <td>0.751489</td>\n",
       "      <td>4.598182</td>\n",
       "      <td>2.427885</td>\n",
       "    </tr>\n",
       "    <tr>\n",
       "      <th>std</th>\n",
       "      <td>23.134440</td>\n",
       "      <td>126.305008</td>\n",
       "      <td>14.925835</td>\n",
       "      <td>12.080172</td>\n",
       "      <td>1.203636</td>\n",
       "      <td>0.561558</td>\n",
       "      <td>0.473450</td>\n",
       "    </tr>\n",
       "    <tr>\n",
       "      <th>min</th>\n",
       "      <td>2.000000</td>\n",
       "      <td>21.000000</td>\n",
       "      <td>2.000000</td>\n",
       "      <td>0.000000</td>\n",
       "      <td>0.000000</td>\n",
       "      <td>2.666667</td>\n",
       "      <td>0.745356</td>\n",
       "    </tr>\n",
       "    <tr>\n",
       "      <th>25%</th>\n",
       "      <td>15.000000</td>\n",
       "      <td>84.000000</td>\n",
       "      <td>14.000000</td>\n",
       "      <td>7.000000</td>\n",
       "      <td>0.000000</td>\n",
       "      <td>4.250000</td>\n",
       "      <td>2.131481</td>\n",
       "    </tr>\n",
       "    <tr>\n",
       "      <th>50%</th>\n",
       "      <td>23.000000</td>\n",
       "      <td>130.000000</td>\n",
       "      <td>21.000000</td>\n",
       "      <td>12.000000</td>\n",
       "      <td>0.000000</td>\n",
       "      <td>4.560791</td>\n",
       "      <td>2.419108</td>\n",
       "    </tr>\n",
       "    <tr>\n",
       "      <th>75%</th>\n",
       "      <td>34.000000</td>\n",
       "      <td>192.000000</td>\n",
       "      <td>30.000000</td>\n",
       "      <td>17.000000</td>\n",
       "      <td>1.000000</td>\n",
       "      <td>4.907156</td>\n",
       "      <td>2.718562</td>\n",
       "    </tr>\n",
       "    <tr>\n",
       "      <th>max</th>\n",
       "      <td>861.000000</td>\n",
       "      <td>4663.000000</td>\n",
       "      <td>429.000000</td>\n",
       "      <td>435.000000</td>\n",
       "      <td>27.000000</td>\n",
       "      <td>10.500000</td>\n",
       "      <td>4.776644</td>\n",
       "    </tr>\n",
       "  </tbody>\n",
       "</table>\n",
       "</div>"
      ],
      "text/plain": [
       "       count_words  count_letters  unique_words  count_stopwords    uppercase  \\\n",
       "count  6044.000000    6044.000000   6044.000000      6044.000000  6044.000000   \n",
       "mean     27.417273     151.659828     23.544672        13.742224     0.751489   \n",
       "std      23.134440     126.305008     14.925835        12.080172     1.203636   \n",
       "min       2.000000      21.000000      2.000000         0.000000     0.000000   \n",
       "25%      15.000000      84.000000     14.000000         7.000000     0.000000   \n",
       "50%      23.000000     130.000000     21.000000        12.000000     0.000000   \n",
       "75%      34.000000     192.000000     30.000000        17.000000     1.000000   \n",
       "max     861.000000    4663.000000    429.000000       435.000000    27.000000   \n",
       "\n",
       "        avg_length   std_length  \n",
       "count  6044.000000  6044.000000  \n",
       "mean      4.598182     2.427885  \n",
       "std       0.561558     0.473450  \n",
       "min       2.666667     0.745356  \n",
       "25%       4.250000     2.131481  \n",
       "50%       4.560791     2.419108  \n",
       "75%       4.907156     2.718562  \n",
       "max      10.500000     4.776644  "
      ]
     },
     "execution_count": 126,
     "metadata": {},
     "output_type": "execute_result"
    }
   ],
   "source": [
    "data[data['author']==\"MWS\"].describe()"
   ]
  },
  {
   "cell_type": "code",
   "execution_count": 127,
   "metadata": {},
   "outputs": [
    {
     "data": {
      "text/html": [
       "<div>\n",
       "<style scoped>\n",
       "    .dataframe tbody tr th:only-of-type {\n",
       "        vertical-align: middle;\n",
       "    }\n",
       "\n",
       "    .dataframe tbody tr th {\n",
       "        vertical-align: top;\n",
       "    }\n",
       "\n",
       "    .dataframe thead th {\n",
       "        text-align: right;\n",
       "    }\n",
       "</style>\n",
       "<table border=\"1\" class=\"dataframe\">\n",
       "  <thead>\n",
       "    <tr style=\"text-align: right;\">\n",
       "      <th></th>\n",
       "      <th>count_words</th>\n",
       "      <th>count_letters</th>\n",
       "      <th>unique_words</th>\n",
       "      <th>count_stopwords</th>\n",
       "      <th>uppercase</th>\n",
       "      <th>avg_length</th>\n",
       "      <th>std_length</th>\n",
       "    </tr>\n",
       "  </thead>\n",
       "  <tbody>\n",
       "    <tr>\n",
       "      <th>count</th>\n",
       "      <td>5635.000000</td>\n",
       "      <td>5635.000000</td>\n",
       "      <td>5635.000000</td>\n",
       "      <td>5635.000000</td>\n",
       "      <td>5635.000000</td>\n",
       "      <td>5635.000000</td>\n",
       "      <td>5635.000000</td>\n",
       "    </tr>\n",
       "    <tr>\n",
       "      <th>mean</th>\n",
       "      <td>27.799645</td>\n",
       "      <td>155.843478</td>\n",
       "      <td>24.437977</td>\n",
       "      <td>12.940728</td>\n",
       "      <td>0.500266</td>\n",
       "      <td>4.625193</td>\n",
       "      <td>2.363087</td>\n",
       "    </tr>\n",
       "    <tr>\n",
       "      <th>std</th>\n",
       "      <td>14.123252</td>\n",
       "      <td>82.020647</td>\n",
       "      <td>11.053739</td>\n",
       "      <td>6.855502</td>\n",
       "      <td>0.852313</td>\n",
       "      <td>0.554917</td>\n",
       "      <td>0.495362</td>\n",
       "    </tr>\n",
       "    <tr>\n",
       "      <th>min</th>\n",
       "      <td>4.000000</td>\n",
       "      <td>21.000000</td>\n",
       "      <td>3.000000</td>\n",
       "      <td>0.000000</td>\n",
       "      <td>0.000000</td>\n",
       "      <td>2.222222</td>\n",
       "      <td>0.400000</td>\n",
       "    </tr>\n",
       "    <tr>\n",
       "      <th>25%</th>\n",
       "      <td>18.000000</td>\n",
       "      <td>98.000000</td>\n",
       "      <td>17.000000</td>\n",
       "      <td>8.000000</td>\n",
       "      <td>0.000000</td>\n",
       "      <td>4.258065</td>\n",
       "      <td>2.041161</td>\n",
       "    </tr>\n",
       "    <tr>\n",
       "      <th>50%</th>\n",
       "      <td>26.000000</td>\n",
       "      <td>142.000000</td>\n",
       "      <td>23.000000</td>\n",
       "      <td>12.000000</td>\n",
       "      <td>0.000000</td>\n",
       "      <td>4.600000</td>\n",
       "      <td>2.358495</td>\n",
       "    </tr>\n",
       "    <tr>\n",
       "      <th>75%</th>\n",
       "      <td>35.000000</td>\n",
       "      <td>196.500000</td>\n",
       "      <td>30.000000</td>\n",
       "      <td>16.500000</td>\n",
       "      <td>1.000000</td>\n",
       "      <td>4.961538</td>\n",
       "      <td>2.680951</td>\n",
       "    </tr>\n",
       "    <tr>\n",
       "      <th>max</th>\n",
       "      <td>147.000000</td>\n",
       "      <td>900.000000</td>\n",
       "      <td>102.000000</td>\n",
       "      <td>62.000000</td>\n",
       "      <td>10.000000</td>\n",
       "      <td>7.833333</td>\n",
       "      <td>4.377187</td>\n",
       "    </tr>\n",
       "  </tbody>\n",
       "</table>\n",
       "</div>"
      ],
      "text/plain": [
       "       count_words  count_letters  unique_words  count_stopwords    uppercase  \\\n",
       "count  5635.000000    5635.000000   5635.000000      5635.000000  5635.000000   \n",
       "mean     27.799645     155.843478     24.437977        12.940728     0.500266   \n",
       "std      14.123252      82.020647     11.053739         6.855502     0.852313   \n",
       "min       4.000000      21.000000      3.000000         0.000000     0.000000   \n",
       "25%      18.000000      98.000000     17.000000         8.000000     0.000000   \n",
       "50%      26.000000     142.000000     23.000000        12.000000     0.000000   \n",
       "75%      35.000000     196.500000     30.000000        16.500000     1.000000   \n",
       "max     147.000000     900.000000    102.000000        62.000000    10.000000   \n",
       "\n",
       "        avg_length   std_length  \n",
       "count  5635.000000  5635.000000  \n",
       "mean      4.625193     2.363087  \n",
       "std       0.554917     0.495362  \n",
       "min       2.222222     0.400000  \n",
       "25%       4.258065     2.041161  \n",
       "50%       4.600000     2.358495  \n",
       "75%       4.961538     2.680951  \n",
       "max       7.833333     4.377187  "
      ]
     },
     "execution_count": 127,
     "metadata": {},
     "output_type": "execute_result"
    }
   ],
   "source": [
    "data[data['author']==\"HPL\"].describe()"
   ]
  },
  {
   "cell_type": "code",
   "execution_count": 25,
   "metadata": {},
   "outputs": [],
   "source": [
    "from sklearn.preprocessing import LabelEncoder"
   ]
  },
  {
   "cell_type": "code",
   "execution_count": 151,
   "metadata": {},
   "outputs": [],
   "source": [
    "encoder = LabelEncoder()\n",
    "y = encoder.fit_transform(data.author.values)"
   ]
  },
  {
   "cell_type": "code",
   "execution_count": 152,
   "metadata": {},
   "outputs": [],
   "source": [
    "data = data.drop(['author','text','id'], axis=1)"
   ]
  },
  {
   "cell_type": "code",
   "execution_count": 130,
   "metadata": {},
   "outputs": [
    {
     "data": {
      "text/html": [
       "<div>\n",
       "<style scoped>\n",
       "    .dataframe tbody tr th:only-of-type {\n",
       "        vertical-align: middle;\n",
       "    }\n",
       "\n",
       "    .dataframe tbody tr th {\n",
       "        vertical-align: top;\n",
       "    }\n",
       "\n",
       "    .dataframe thead th {\n",
       "        text-align: right;\n",
       "    }\n",
       "</style>\n",
       "<table border=\"1\" class=\"dataframe\">\n",
       "  <thead>\n",
       "    <tr style=\"text-align: right;\">\n",
       "      <th></th>\n",
       "      <th>count_words</th>\n",
       "      <th>count_letters</th>\n",
       "      <th>unique_words</th>\n",
       "      <th>count_stopwords</th>\n",
       "      <th>uppercase</th>\n",
       "      <th>avg_length</th>\n",
       "      <th>std_length</th>\n",
       "    </tr>\n",
       "  </thead>\n",
       "  <tbody>\n",
       "    <tr>\n",
       "      <th>0</th>\n",
       "      <td>41</td>\n",
       "      <td>231</td>\n",
       "      <td>35</td>\n",
       "      <td>19</td>\n",
       "      <td>2</td>\n",
       "      <td>4.658537</td>\n",
       "      <td>2.637532</td>\n",
       "    </tr>\n",
       "    <tr>\n",
       "      <th>1</th>\n",
       "      <td>14</td>\n",
       "      <td>71</td>\n",
       "      <td>14</td>\n",
       "      <td>8</td>\n",
       "      <td>0</td>\n",
       "      <td>4.142857</td>\n",
       "      <td>2.325546</td>\n",
       "    </tr>\n",
       "    <tr>\n",
       "      <th>2</th>\n",
       "      <td>36</td>\n",
       "      <td>200</td>\n",
       "      <td>32</td>\n",
       "      <td>16</td>\n",
       "      <td>0</td>\n",
       "      <td>4.583333</td>\n",
       "      <td>2.639181</td>\n",
       "    </tr>\n",
       "    <tr>\n",
       "      <th>3</th>\n",
       "      <td>34</td>\n",
       "      <td>206</td>\n",
       "      <td>32</td>\n",
       "      <td>13</td>\n",
       "      <td>0</td>\n",
       "      <td>5.088235</td>\n",
       "      <td>2.227735</td>\n",
       "    </tr>\n",
       "    <tr>\n",
       "      <th>4</th>\n",
       "      <td>27</td>\n",
       "      <td>174</td>\n",
       "      <td>25</td>\n",
       "      <td>11</td>\n",
       "      <td>0</td>\n",
       "      <td>5.481481</td>\n",
       "      <td>3.315177</td>\n",
       "    </tr>\n",
       "  </tbody>\n",
       "</table>\n",
       "</div>"
      ],
      "text/plain": [
       "   count_words  count_letters  unique_words  count_stopwords  uppercase  \\\n",
       "0           41            231            35               19          2   \n",
       "1           14             71            14                8          0   \n",
       "2           36            200            32               16          0   \n",
       "3           34            206            32               13          0   \n",
       "4           27            174            25               11          0   \n",
       "\n",
       "   avg_length  std_length  \n",
       "0    4.658537    2.637532  \n",
       "1    4.142857    2.325546  \n",
       "2    4.583333    2.639181  \n",
       "3    5.088235    2.227735  \n",
       "4    5.481481    3.315177  "
      ]
     },
     "execution_count": 130,
     "metadata": {},
     "output_type": "execute_result"
    }
   ],
   "source": [
    "data.head()"
   ]
  },
  {
   "cell_type": "code",
   "execution_count": 131,
   "metadata": {},
   "outputs": [],
   "source": [
    "from sklearn.preprocessing import StandardScaler"
   ]
  },
  {
   "cell_type": "code",
   "execution_count": 153,
   "metadata": {},
   "outputs": [],
   "source": [
    "X = data.copy()"
   ]
  },
  {
   "cell_type": "code",
   "execution_count": 156,
   "metadata": {},
   "outputs": [],
   "source": [
    "scaler = StandardScaler()\n",
    "X = scaler.fit_transform(X)\n",
    "X = pd.DataFrame(X, columns=data.columns.values)"
   ]
  },
  {
   "cell_type": "code",
   "execution_count": 157,
   "metadata": {},
   "outputs": [
    {
     "data": {
      "text/html": [
       "<div>\n",
       "<style scoped>\n",
       "    .dataframe tbody tr th:only-of-type {\n",
       "        vertical-align: middle;\n",
       "    }\n",
       "\n",
       "    .dataframe tbody tr th {\n",
       "        vertical-align: top;\n",
       "    }\n",
       "\n",
       "    .dataframe thead th {\n",
       "        text-align: right;\n",
       "    }\n",
       "</style>\n",
       "<table border=\"1\" class=\"dataframe\">\n",
       "  <thead>\n",
       "    <tr style=\"text-align: right;\">\n",
       "      <th></th>\n",
       "      <th>count_words</th>\n",
       "      <th>count_letters</th>\n",
       "      <th>unique_words</th>\n",
       "      <th>count_stopwords</th>\n",
       "      <th>uppercase</th>\n",
       "      <th>avg_length</th>\n",
       "      <th>std_length</th>\n",
       "    </tr>\n",
       "  </thead>\n",
       "  <tbody>\n",
       "    <tr>\n",
       "      <th>0</th>\n",
       "      <td>0.749140</td>\n",
       "      <td>0.767271</td>\n",
       "      <td>0.881577</td>\n",
       "      <td>0.608004</td>\n",
       "      <td>1.408759</td>\n",
       "      <td>0.057214</td>\n",
       "      <td>0.357160</td>\n",
       "    </tr>\n",
       "    <tr>\n",
       "      <th>1</th>\n",
       "      <td>-0.668341</td>\n",
       "      <td>-0.730892</td>\n",
       "      <td>-0.678883</td>\n",
       "      <td>-0.517515</td>\n",
       "      <td>-0.602624</td>\n",
       "      <td>-0.818036</td>\n",
       "      <td>-0.228672</td>\n",
       "    </tr>\n",
       "    <tr>\n",
       "      <th>2</th>\n",
       "      <td>0.486644</td>\n",
       "      <td>0.477002</td>\n",
       "      <td>0.658654</td>\n",
       "      <td>0.301044</td>\n",
       "      <td>-0.602624</td>\n",
       "      <td>-0.070427</td>\n",
       "      <td>0.360257</td>\n",
       "    </tr>\n",
       "    <tr>\n",
       "      <th>3</th>\n",
       "      <td>0.381645</td>\n",
       "      <td>0.533183</td>\n",
       "      <td>0.658654</td>\n",
       "      <td>-0.005916</td>\n",
       "      <td>-0.602624</td>\n",
       "      <td>0.786532</td>\n",
       "      <td>-0.412336</td>\n",
       "    </tr>\n",
       "    <tr>\n",
       "      <th>4</th>\n",
       "      <td>0.014150</td>\n",
       "      <td>0.233550</td>\n",
       "      <td>0.138501</td>\n",
       "      <td>-0.210556</td>\n",
       "      <td>-0.602624</td>\n",
       "      <td>1.453979</td>\n",
       "      <td>1.629608</td>\n",
       "    </tr>\n",
       "  </tbody>\n",
       "</table>\n",
       "</div>"
      ],
      "text/plain": [
       "   count_words  count_letters  unique_words  count_stopwords  uppercase  \\\n",
       "0     0.749140       0.767271      0.881577         0.608004   1.408759   \n",
       "1    -0.668341      -0.730892     -0.678883        -0.517515  -0.602624   \n",
       "2     0.486644       0.477002      0.658654         0.301044  -0.602624   \n",
       "3     0.381645       0.533183      0.658654        -0.005916  -0.602624   \n",
       "4     0.014150       0.233550      0.138501        -0.210556  -0.602624   \n",
       "\n",
       "   avg_length  std_length  \n",
       "0    0.057214    0.357160  \n",
       "1   -0.818036   -0.228672  \n",
       "2   -0.070427    0.360257  \n",
       "3    0.786532   -0.412336  \n",
       "4    1.453979    1.629608  "
      ]
     },
     "execution_count": 157,
     "metadata": {},
     "output_type": "execute_result"
    }
   ],
   "source": [
    "X.head()"
   ]
  },
  {
   "cell_type": "code",
   "execution_count": 64,
   "metadata": {},
   "outputs": [],
   "source": [
    "from sklearn.model_selection import train_test_split"
   ]
  },
  {
   "cell_type": "code",
   "execution_count": 178,
   "metadata": {},
   "outputs": [],
   "source": [
    "X_train, X_test, Y_train, Y_test = train_test_split(X, y, \n",
    "                                                    stratify=y, \n",
    "                                                    random_state=42, \n",
    "                                                    test_size=0.8, shuffle=True)"
   ]
  },
  {
   "cell_type": "markdown",
   "metadata": {},
   "source": [
    "### Naive Model without adding Text Features"
   ]
  },
  {
   "cell_type": "code",
   "execution_count": 66,
   "metadata": {},
   "outputs": [],
   "source": [
    "from sklearn.neighbors import KNeighborsClassifier\n",
    "from sklearn.tree import DecisionTreeClassifier\n",
    "from sklearn.linear_model import LogisticRegression\n",
    "from sklearn.ensemble import VotingClassifier"
   ]
  },
  {
   "cell_type": "code",
   "execution_count": 162,
   "metadata": {},
   "outputs": [],
   "source": [
    "knn = KNeighborsClassifier()\n",
    "log = LogisticRegression(random_state=42)\n",
    "tree = DecisionTreeClassifier(max_depth=2, random_state=42)"
   ]
  },
  {
   "cell_type": "markdown",
   "metadata": {},
   "source": [
    "#### Hard Voting Ensemble"
   ]
  },
  {
   "cell_type": "code",
   "execution_count": 179,
   "metadata": {},
   "outputs": [
    {
     "data": {
      "text/plain": [
       "VotingClassifier(estimators=[('knn', KNeighborsClassifier(algorithm='auto', leaf_size=30, metric='minkowski',\n",
       "           metric_params=None, n_jobs=1, n_neighbors=5, p=2,\n",
       "           weights='uniform')), ('lr', LogisticRegression(C=1.0, class_weight=None, dual=False, fit_intercept=True,\n",
       "          intercept_scaling=1,...        min_weight_fraction_leaf=0.0, presort=False, random_state=42,\n",
       "            splitter='best'))],\n",
       "         flatten_transform=None, n_jobs=1, voting='hard', weights=None)"
      ]
     },
     "execution_count": 179,
     "metadata": {},
     "output_type": "execute_result"
    }
   ],
   "source": [
    "voting_clf = VotingClassifier(\n",
    "    estimators=[('knn', knn), ('lr', log), ('tree', tree)], voting='hard')\n",
    "\n",
    "voting_clf.fit(X_train, Y_train)"
   ]
  },
  {
   "cell_type": "code",
   "execution_count": 180,
   "metadata": {},
   "outputs": [
    {
     "name": "stdout",
     "output_type": "stream",
     "text": [
      "Accuracy: 0.42 (+/- 0.00) [KNN]\n",
      "Accuracy: 0.45 (+/- 0.00) [Reg Logistica]\n",
      "Accuracy: 0.42 (+/- 0.01) [tree]\n",
      "Accuracy: 0.45 (+/- 0.01) [Ensemble]\n"
     ]
    }
   ],
   "source": [
    "from sklearn.model_selection import cross_val_score\n",
    "\n",
    "for clf, label in zip([knn, log, tree, voting_clf],\n",
    "                      ['KNN', 'Reg Logistica', 'tree', 'Ensemble']):\n",
    "    scores = cross_val_score(clf, X, y, cv=5, scoring='accuracy')\n",
    "    \n",
    "    print(\"Accuracy: %0.2f (+/- %0.2f) [%s]\" % (scores.mean(), scores.std(), label))\n",
    "    \n",
    "#We can see that Ensemble performed better than 3 of de models separately\n",
    "#Low performances because there is no text features (yet?) "
   ]
  },
  {
   "cell_type": "markdown",
   "metadata": {},
   "source": [
    "#### Soft Voting Ensemble"
   ]
  },
  {
   "cell_type": "code",
   "execution_count": 181,
   "metadata": {},
   "outputs": [
    {
     "data": {
      "text/plain": [
       "VotingClassifier(estimators=[('knn', KNeighborsClassifier(algorithm='auto', leaf_size=30, metric='minkowski',\n",
       "           metric_params=None, n_jobs=1, n_neighbors=5, p=2,\n",
       "           weights='uniform')), ('lr', LogisticRegression(C=1.0, class_weight=None, dual=False, fit_intercept=True,\n",
       "          intercept_scaling=1,...        min_weight_fraction_leaf=0.0, presort=False, random_state=42,\n",
       "            splitter='best'))],\n",
       "         flatten_transform=None, n_jobs=1, voting='soft', weights=None)"
      ]
     },
     "execution_count": 181,
     "metadata": {},
     "output_type": "execute_result"
    }
   ],
   "source": [
    "voting_clf = VotingClassifier(\n",
    "    estimators=[('knn', knn), ('lr', log), ('tree', tree)], voting='soft')\n",
    "voting_clf.fit(X_train, Y_train)"
   ]
  },
  {
   "cell_type": "code",
   "execution_count": 182,
   "metadata": {},
   "outputs": [
    {
     "name": "stdout",
     "output_type": "stream",
     "text": [
      "Accuracy: 0.40 (+/- 0.01) [KNN]\n",
      "Accuracy: 0.45 (+/- 0.00) [Reg Logistica]\n",
      "Accuracy: 0.42 (+/- 0.01) [tree]\n",
      "Accuracy: 0.43 (+/- 0.00) [Ensemble]\n"
     ]
    }
   ],
   "source": [
    "for clf, label in zip([knn, log, tree, voting_clf], \n",
    "                      ['KNN', 'Reg Logistica', 'tree', 'Ensemble']):\n",
    "    scores = cross_val_score(clf, data, y, cv=5, scoring='accuracy')\n",
    "    \n",
    "    print(\"Accuracy: %0.2f (+/- %0.2f) [%s]\" % (scores.mean(), scores.std(), label))"
   ]
  },
  {
   "cell_type": "markdown",
   "metadata": {},
   "source": [
    "#### Random Forest"
   ]
  },
  {
   "cell_type": "code",
   "execution_count": 77,
   "metadata": {},
   "outputs": [],
   "source": [
    "from sklearn.ensemble import RandomForestClassifier"
   ]
  },
  {
   "cell_type": "code",
   "execution_count": 169,
   "metadata": {},
   "outputs": [
    {
     "data": {
      "text/plain": [
       "RandomForestClassifier(bootstrap=True, class_weight=None, criterion='gini',\n",
       "            max_depth=3, max_features='auto', max_leaf_nodes=None,\n",
       "            min_impurity_decrease=0.0, min_impurity_split=None,\n",
       "            min_samples_leaf=1, min_samples_split=2,\n",
       "            min_weight_fraction_leaf=0.0, n_estimators=10, n_jobs=1,\n",
       "            oob_score=False, random_state=None, verbose=0,\n",
       "            warm_start=False)"
      ]
     },
     "execution_count": 169,
     "metadata": {},
     "output_type": "execute_result"
    }
   ],
   "source": [
    "forest = RandomForestClassifier(n_estimators=10, max_depth = 3)\n",
    "forest.fit(X_train, Y_train)"
   ]
  },
  {
   "cell_type": "code",
   "execution_count": 170,
   "metadata": {},
   "outputs": [
    {
     "data": {
      "text/plain": [
       "0.45199182839632279"
      ]
     },
     "execution_count": 170,
     "metadata": {},
     "output_type": "execute_result"
    }
   ],
   "source": [
    "forest.score(X_test, Y_test)"
   ]
  },
  {
   "cell_type": "code",
   "execution_count": 171,
   "metadata": {},
   "outputs": [
    {
     "data": {
      "text/plain": [
       "0.46588355464759962"
      ]
     },
     "execution_count": 171,
     "metadata": {},
     "output_type": "execute_result"
    }
   ],
   "source": [
    "forest = RandomForestClassifier(n_estimators=200, max_depth = 7)\n",
    "forest.fit(X_train, Y_train)\n",
    "forest.score(X_test, Y_test)\n",
    "\n",
    "#RANDOM FOREST IMPROVED ACCURACY"
   ]
  },
  {
   "cell_type": "markdown",
   "metadata": {},
   "source": [
    "#### AdaBoost"
   ]
  },
  {
   "cell_type": "code",
   "execution_count": 96,
   "metadata": {},
   "outputs": [],
   "source": [
    "from sklearn.ensemble import AdaBoostClassifier"
   ]
  },
  {
   "cell_type": "code",
   "execution_count": 172,
   "metadata": {},
   "outputs": [
    {
     "data": {
      "text/plain": [
       "AdaBoostClassifier(algorithm='SAMME.R',\n",
       "          base_estimator=DecisionTreeClassifier(class_weight=None, criterion='gini', max_depth=3,\n",
       "            max_features=None, max_leaf_nodes=None,\n",
       "            min_impurity_decrease=0.0, min_impurity_split=None,\n",
       "            min_samples_leaf=1, min_samples_split=2,\n",
       "            min_weight_fraction_leaf=0.0, presort=False, random_state=None,\n",
       "            splitter='best'),\n",
       "          learning_rate=1, n_estimators=200, random_state=42)"
      ]
     },
     "execution_count": 172,
     "metadata": {},
     "output_type": "execute_result"
    }
   ],
   "source": [
    "ada_clf = AdaBoostClassifier(\n",
    "    DecisionTreeClassifier(max_depth=3), n_estimators=200,\n",
    "    algorithm=\"SAMME.R\", learning_rate=1, random_state=42)\n",
    "ada_clf.fit(X_train, Y_train)"
   ]
  },
  {
   "cell_type": "code",
   "execution_count": 173,
   "metadata": {},
   "outputs": [
    {
     "data": {
      "text/plain": [
       "0.40755873340143001"
      ]
     },
     "execution_count": 173,
     "metadata": {},
     "output_type": "execute_result"
    }
   ],
   "source": [
    "ada_clf.score(X_test, Y_test)"
   ]
  },
  {
   "cell_type": "code",
   "execution_count": 103,
   "metadata": {},
   "outputs": [
    {
     "data": {
      "text/plain": [
       "{'algorithm': 'SAMME.R',\n",
       " 'base_estimator': DecisionTreeClassifier(class_weight=None, criterion='gini', max_depth=3,\n",
       "             max_features=None, max_leaf_nodes=None,\n",
       "             min_impurity_decrease=0.0, min_impurity_split=None,\n",
       "             min_samples_leaf=1, min_samples_split=2,\n",
       "             min_weight_fraction_leaf=0.0, presort=False, random_state=None,\n",
       "             splitter='best'),\n",
       " 'base_estimator__class_weight': None,\n",
       " 'base_estimator__criterion': 'gini',\n",
       " 'base_estimator__max_depth': 3,\n",
       " 'base_estimator__max_features': None,\n",
       " 'base_estimator__max_leaf_nodes': None,\n",
       " 'base_estimator__min_impurity_decrease': 0.0,\n",
       " 'base_estimator__min_impurity_split': None,\n",
       " 'base_estimator__min_samples_leaf': 1,\n",
       " 'base_estimator__min_samples_split': 2,\n",
       " 'base_estimator__min_weight_fraction_leaf': 0.0,\n",
       " 'base_estimator__presort': False,\n",
       " 'base_estimator__random_state': None,\n",
       " 'base_estimator__splitter': 'best',\n",
       " 'learning_rate': 1,\n",
       " 'n_estimators': 200,\n",
       " 'random_state': 42}"
      ]
     },
     "execution_count": 103,
     "metadata": {},
     "output_type": "execute_result"
    }
   ],
   "source": [
    "ada_clf.get_params()"
   ]
  },
  {
   "cell_type": "markdown",
   "metadata": {},
   "source": [
    "#### Gradient Boosting"
   ]
  },
  {
   "cell_type": "code",
   "execution_count": 175,
   "metadata": {},
   "outputs": [],
   "source": [
    "from sklearn.ensemble import GradientBoostingClassifier"
   ]
  },
  {
   "cell_type": "code",
   "execution_count": 176,
   "metadata": {},
   "outputs": [
    {
     "data": {
      "text/plain": [
       "GradientBoostingClassifier(criterion='friedman_mse', init=None,\n",
       "              learning_rate=1.0, loss='deviance', max_depth=3,\n",
       "              max_features=None, max_leaf_nodes=None,\n",
       "              min_impurity_decrease=0.0, min_impurity_split=None,\n",
       "              min_samples_leaf=1, min_samples_split=2,\n",
       "              min_weight_fraction_leaf=0.0, n_estimators=120,\n",
       "              presort='auto', random_state=42, subsample=1.0, verbose=0,\n",
       "              warm_start=False)"
      ]
     },
     "execution_count": 176,
     "metadata": {},
     "output_type": "execute_result"
    }
   ],
   "source": [
    "gb_clf = GradientBoostingClassifier(max_depth=3, n_estimators=120, learning_rate=1.0, random_state=42)\n",
    "gb_clf.fit(X_train, Y_train)"
   ]
  },
  {
   "cell_type": "code",
   "execution_count": 177,
   "metadata": {},
   "outputs": [
    {
     "data": {
      "text/plain": [
       "0.41818181818181815"
      ]
     },
     "execution_count": 177,
     "metadata": {},
     "output_type": "execute_result"
    }
   ],
   "source": [
    "gb_clf.score(X_test, Y_test)"
   ]
  },
  {
   "cell_type": "code",
   "execution_count": 108,
   "metadata": {},
   "outputs": [
    {
     "data": {
      "text/plain": [
       "{'criterion': 'friedman_mse',\n",
       " 'init': None,\n",
       " 'learning_rate': 1.0,\n",
       " 'loss': 'deviance',\n",
       " 'max_depth': 3,\n",
       " 'max_features': None,\n",
       " 'max_leaf_nodes': None,\n",
       " 'min_impurity_decrease': 0.0,\n",
       " 'min_impurity_split': None,\n",
       " 'min_samples_leaf': 1,\n",
       " 'min_samples_split': 2,\n",
       " 'min_weight_fraction_leaf': 0.0,\n",
       " 'n_estimators': 120,\n",
       " 'presort': 'auto',\n",
       " 'random_state': 42,\n",
       " 'subsample': 1.0,\n",
       " 'verbose': 0,\n",
       " 'warm_start': False}"
      ]
     },
     "execution_count": 108,
     "metadata": {},
     "output_type": "execute_result"
    }
   ],
   "source": [
    "gb_clf.get_params()"
   ]
  },
  {
   "cell_type": "markdown",
   "metadata": {},
   "source": [
    "### Hyperparameter Optimization for Individual Models"
   ]
  },
  {
   "cell_type": "markdown",
   "metadata": {},
   "source": [
    "#### KNN"
   ]
  },
  {
   "cell_type": "code",
   "execution_count": 188,
   "metadata": {},
   "outputs": [],
   "source": [
    "from sklearn.pipeline import Pipeline\n",
    "from sklearn.model_selection import GridSearchCV"
   ]
  },
  {
   "cell_type": "code",
   "execution_count": 190,
   "metadata": {},
   "outputs": [
    {
     "name": "stdout",
     "output_type": "stream",
     "text": [
      "0.425798212005\n",
      "{'knn__leaf_size': 26, 'knn__n_neighbors': 10, 'knn__weights': 'uniform'}\n"
     ]
    }
   ],
   "source": [
    "pipe_knn = Pipeline([('scl', StandardScaler()),\n",
    "                     ('knn', KNeighborsClassifier(n_jobs=4))])\n",
    "\n",
    "neighbors_range = range(1,11)\n",
    "weights = ['uniform','distance']\n",
    "leaf_range = range(26,36)\n",
    "\n",
    "grid = [{'knn__n_neighbors':neighbors_range,\n",
    "         'knn__weights':weights,\n",
    "         'knn__leaf_size':leaf_range}]\n",
    "\n",
    "cv = GridSearchCV(estimator=pipe_knn,\n",
    "                  param_grid=grid,\n",
    "                  scoring='accuracy',\n",
    "                  cv=10)\n",
    "\n",
    "cv = cv.fit(X_train, Y_train)\n",
    "print(cv.best_score_)\n",
    "print(cv.best_params_)"
   ]
  },
  {
   "cell_type": "code",
   "execution_count": 191,
   "metadata": {},
   "outputs": [
    {
     "name": "stdout",
     "output_type": "stream",
     "text": [
      "0.437037037037\n",
      "{'knn__leaf_size': 17, 'knn__n_neighbors': 15}\n"
     ]
    }
   ],
   "source": [
    "pipe_knn = Pipeline([('scl', StandardScaler()),\n",
    "                     ('knn', KNeighborsClassifier(n_jobs=4))])\n",
    "\n",
    "neighbors_range = range(10,16)\n",
    "leaf_range = range(17,27)\n",
    "\n",
    "grid = [{'knn__n_neighbors':neighbors_range,\n",
    "         'knn__leaf_size':leaf_range}]\n",
    "\n",
    "cv = GridSearchCV(estimator=pipe_knn,\n",
    "                  param_grid=grid,\n",
    "                  scoring='accuracy',\n",
    "                  cv=10)\n",
    "\n",
    "cv = cv.fit(X_train, Y_train)\n",
    "print(cv.best_score_)\n",
    "print(cv.best_params_)"
   ]
  },
  {
   "cell_type": "markdown",
   "metadata": {},
   "source": [
    "#### Logistic Regression"
   ]
  },
  {
   "cell_type": "code",
   "execution_count": 230,
   "metadata": {},
   "outputs": [
    {
     "name": "stdout",
     "output_type": "stream",
     "text": [
      "0.45159642401\n",
      "{'log__C': 10, 'log__penalty': 'l1', 'log__solver': 'liblinear'}\n"
     ]
    }
   ],
   "source": [
    "pipe_log = Pipeline([('scl', StandardScaler()),\n",
    "                     ('log', LogisticRegression(n_jobs=4, random_state=42))])\n",
    "\n",
    "c_range = range(-5,5)\n",
    "penalties = ['l1','l2']\n",
    "solvers = ['liblinear','saga']\n",
    "\n",
    "grid = [{'log__C':[10**c for c in c_range],\n",
    "         'log__penalty':penalties,\n",
    "         'log__solver':solvers}]\n",
    "\n",
    "cv = GridSearchCV(estimator=pipe_log,\n",
    "                  param_grid=grid,\n",
    "                  scoring='accuracy',\n",
    "                  cv=10)\n",
    "\n",
    "cv = cv.fit(X_train, Y_train)\n",
    "print(cv.best_score_)\n",
    "print(cv.best_params_)"
   ]
  },
  {
   "cell_type": "markdown",
   "metadata": {},
   "source": [
    "#### Decision Tree"
   ]
  },
  {
   "cell_type": "code",
   "execution_count": 237,
   "metadata": {},
   "outputs": [
    {
     "name": "stdout",
     "output_type": "stream",
     "text": [
      "0.424521072797\n",
      "{'tree__criterion': 'gini', 'tree__max_depth': 5, 'tree__max_features': 'sqrt'}\n"
     ]
    }
   ],
   "source": [
    "pipe_tree = Pipeline([('scl', StandardScaler()),\n",
    "                      ('tree', DecisionTreeClassifier(random_state=42))])\n",
    "\n",
    "criteria = ['gini','entropy']\n",
    "max_depths = [5,10,15,20,25,30]\n",
    "max_features = ['sqrt','log2',None]\n",
    "\n",
    "grid = [{'tree__criterion':criteria,\n",
    "         'tree__max_depth':max_depths,\n",
    "         'tree__max_features':max_features}]\n",
    "\n",
    "cv = GridSearchCV(estimator=pipe_tree,\n",
    "                 param_grid=grid,\n",
    "                 scoring='accuracy',\n",
    "                 cv=10)\n",
    "\n",
    "cv = cv.fit(X_train, Y_train)\n",
    "print(cv.best_score_)\n",
    "print(cv.best_params_)"
   ]
  },
  {
   "cell_type": "markdown",
   "metadata": {},
   "source": [
    "#### Random Forest"
   ]
  },
  {
   "cell_type": "code",
   "execution_count": 250,
   "metadata": {},
   "outputs": [
    {
     "name": "stdout",
     "output_type": "stream",
     "text": [
      "0.456704980843\n",
      "{'forest__max_depth': 5, 'forest__max_features': 'sqrt', 'forest__n_estimators': 50}\n"
     ]
    }
   ],
   "source": [
    "pipe_forest = Pipeline([('scl', StandardScaler()),\n",
    "                        ('forest', RandomForestClassifier(random_state=42, n_jobs=4))])\n",
    "\n",
    "max_depths = [5,10,15,20,25,30]\n",
    "max_features = ['sqrt','log2',None]\n",
    "n_estimators = [10,25,50,100,200,500]\n",
    "\n",
    "grid = [{'forest__n_estimators':n_estimators,\n",
    "         'forest__max_depth':max_depths,\n",
    "         'forest__max_features':max_features}]\n",
    "\n",
    "cv = GridSearchCV(estimator=pipe_forest,\n",
    "                 param_grid=grid,\n",
    "                 scoring='accuracy',\n",
    "                 cv=10)\n",
    "\n",
    "cv = cv.fit(X_train, Y_train)\n",
    "print(cv.best_score_)\n",
    "print(cv.best_params_)"
   ]
  },
  {
   "cell_type": "markdown",
   "metadata": {},
   "source": [
    "#### AdaBoost"
   ]
  },
  {
   "cell_type": "code",
   "execution_count": 255,
   "metadata": {},
   "outputs": [
    {
     "name": "stdout",
     "output_type": "stream",
     "text": [
      "0.45619412516\n",
      "{'ada__learning_rate': 0.1, 'ada__n_estimators': 500}\n"
     ]
    }
   ],
   "source": [
    "pipe_ada = Pipeline([('scl', StandardScaler()),\n",
    "                     ('ada', AdaBoostClassifier(random_state=42))])\n",
    "\n",
    "n_estimators = [10,25,50,100,200,500]\n",
    "learning_rate = [0.001, 0.01, 0.1, 1, 10, 100]\n",
    "\n",
    "grid = [{'ada__n_estimators':n_estimators,\n",
    "         'ada__learning_rate':learning_rate}]\n",
    "\n",
    "cv = GridSearchCV(estimator=pipe_ada,\n",
    "                 param_grid=grid,\n",
    "                 scoring='accuracy',\n",
    "                 cv=10)\n",
    "\n",
    "cv = cv.fit(X_train, Y_train)\n",
    "print(cv.best_score_)\n",
    "print(cv.best_params_)"
   ]
  },
  {
   "cell_type": "code",
   "execution_count": 259,
   "metadata": {},
   "outputs": [
    {
     "data": {
      "text/plain": [
       "0.4636108273748723"
      ]
     },
     "execution_count": 259,
     "metadata": {},
     "output_type": "execute_result"
    }
   ],
   "source": [
    "pipe_ada = Pipeline([('scl', StandardScaler()),\n",
    "                     ('ada', AdaBoostClassifier(random_state=42, learning_rate=0.1, n_estimators=1000))])\n",
    "pipe_ada.fit(X_train, Y_train)\n",
    "pipe_ada.score(X_test, Y_test)\n",
    "\n",
    "#adaboost returns from the ashes: turned out to be the best until now"
   ]
  },
  {
   "cell_type": "markdown",
   "metadata": {},
   "source": [
    "#### Gradient Boosting"
   ]
  },
  {
   "cell_type": "code",
   "execution_count": 263,
   "metadata": {},
   "outputs": [
    {
     "name": "stdout",
     "output_type": "stream",
     "text": [
      "0.444444444444\n",
      "{'gb__max_depth': 5, 'gb__n_estimators': 50}\n"
     ]
    }
   ],
   "source": [
    "pipe_gb = Pipeline([('scl', StandardScaler()),\n",
    "                    ('gb', GradientBoostingClassifier(random_state=42,\n",
    "                                                      learning_rate=0.1))])\n",
    "\n",
    "n_estimators = [50,100,200,500]\n",
    "max_depth = [5,10,50]\n",
    "\n",
    "grid = [{'gb__n_estimators':n_estimators,\n",
    "         'gb__max_depth':max_depth}]\n",
    "\n",
    "cv = GridSearchCV(estimator=pipe_gb,\n",
    "                 param_grid=grid,\n",
    "                 scoring='accuracy',\n",
    "                 cv=10, n_jobs=4)\n",
    "\n",
    "cv = cv.fit(X_train, Y_train)\n",
    "print(cv.best_score_)\n",
    "print(cv.best_params_)"
   ]
  },
  {
   "cell_type": "code",
   "execution_count": 264,
   "metadata": {},
   "outputs": [
    {
     "name": "stdout",
     "output_type": "stream",
     "text": [
      "0.457471264368\n",
      "{'gb__max_depth': 3, 'gb__n_estimators': 50}\n"
     ]
    }
   ],
   "source": [
    "#repeat the process more than once in order not to scale the combination of parameters\n",
    "\n",
    "n_estimators = [5,10,25,50]\n",
    "max_depth = [1,3,5]\n",
    "\n",
    "grid = [{'gb__n_estimators':n_estimators,\n",
    "         'gb__max_depth':max_depth}]\n",
    "\n",
    "cv = GridSearchCV(estimator=pipe_gb,\n",
    "                 param_grid=grid,\n",
    "                 scoring='accuracy',\n",
    "                 cv=10, n_jobs=4)\n",
    "\n",
    "cv = cv.fit(X_train, Y_train)\n",
    "print(cv.best_score_)\n",
    "print(cv.best_params_)\n",
    "\n",
    "#n_estimators = 50\n",
    "#max_depth=3\n",
    "#learning_rate=0.1"
   ]
  },
  {
   "cell_type": "markdown",
   "metadata": {},
   "source": [
    "### Hard Voting Ensembled Model: non optimized parameters x optimized parameters"
   ]
  },
  {
   "cell_type": "code",
   "execution_count": 266,
   "metadata": {},
   "outputs": [
    {
     "data": {
      "text/plain": [
       "VotingClassifier(estimators=[('knn', Pipeline(memory=None,\n",
       "     steps=[('scl', StandardScaler(copy=True, with_mean=True, with_std=True)), ('knn', KNeighborsClassifier(algorithm='auto', leaf_size=30, metric='minkowski',\n",
       "           metric_params=None, n_jobs=4, n_neighbors=15, p=2,\n",
       "           weights='uniform'))])), (...     presort='auto', random_state=42, subsample=1.0, verbose=0,\n",
       "              warm_start=False))]))],\n",
       "         flatten_transform=None, n_jobs=1, voting='hard', weights=None)"
      ]
     },
     "execution_count": 266,
     "metadata": {},
     "output_type": "execute_result"
    }
   ],
   "source": [
    "voting_clf = VotingClassifier(\n",
    "    estimators=[('knn', pipe_knn), ('lr', pipe_log), ('tree', pipe_tree),('forest', pipe_forest),\n",
    "                ('adaboost', pipe_ada), ('gradient boosting', pipe_gb)], voting='hard')\n",
    "\n",
    "voting_clf.fit(X_train, Y_train)"
   ]
  },
  {
   "cell_type": "code",
   "execution_count": 269,
   "metadata": {},
   "outputs": [
    {
     "name": "stdout",
     "output_type": "stream",
     "text": [
      "Accuracy: 0.43516 (+/- 0.00551) [KNN]\n",
      "Accuracy: 0.45370 (+/- 0.00436) [Reg Logistica]\n",
      "Accuracy: 0.38199 (+/- 0.00892) [tree]\n",
      "Accuracy: 0.46494 (+/- 0.01051) [forest]\n",
      "Accuracy: 0.46979 (+/- 0.01089) [Adaboost]\n",
      "Accuracy: 0.46688 (+/- 0.00846) [Gradient Boosting]\n",
      "Accuracy: 0.46913 (+/- 0.00901) [Ensemble]\n"
     ]
    }
   ],
   "source": [
    "for clf, label in zip([pipe_knn, pipe_log, pipe_tree, pipe_forest, pipe_ada, pipe_gb, voting_clf],\n",
    "                      ['KNN', 'Reg Logistica', 'tree', 'forest', 'Adaboost', 'Gradient Boosting', 'Ensemble']):\n",
    "    scores = cross_val_score(clf, X, y, cv=5, scoring='accuracy')\n",
    "    \n",
    "    print(\"Accuracy: %0.5f (+/- %0.5f) [%s]\" % (scores.mean(), scores.std(), label))\n",
    "    \n",
    "#ENSEMBLE JUST DIDN'T BEAT ADABOOST (BUT HAS LESS VARIANCE) "
   ]
  },
  {
   "cell_type": "code",
   "execution_count": 276,
   "metadata": {},
   "outputs": [],
   "source": [
    "pipe_knn_optim = Pipeline([('scl', StandardScaler()),\n",
    "                           ('knn', KNeighborsClassifier(n_jobs=4,\n",
    "                                                  leaf_size=17,\n",
    "                                                  n_neighbors=15))])\n",
    "\n",
    "pipe_log_optim = Pipeline([('scl', StandardScaler()),\n",
    "                           ('log', LogisticRegression(n_jobs=4, \n",
    "                                                random_state=42,\n",
    "                                                C=10,\n",
    "                                                penalty='l1',\n",
    "                                                solver='liblinear'))])\n",
    "\n",
    "pipe_tree_optim = Pipeline([('scl', StandardScaler()),\n",
    "                            ('tree', DecisionTreeClassifier(random_state=42,\n",
    "                                                      criterion='gini',\n",
    "                                                      max_depth=5,\n",
    "                                                      max_features='sqrt'))])\n",
    "\n",
    "pipe_forest_optim = Pipeline([('scl', StandardScaler()),\n",
    "                              ('forest', RandomForestClassifier(random_state=42, \n",
    "                                                          n_jobs=4,\n",
    "                                                          max_depth=5,\n",
    "                                                          max_features='sqrt',\n",
    "                                                          n_estimators=50))])\n",
    "pipe_ada_optim = Pipeline([('scl', StandardScaler()),\n",
    "                           ('ada', AdaBoostClassifier(random_state=42,\n",
    "                                                learning_rate=0.1,\n",
    "                                                n_estimators=1000))])\n",
    "\n",
    "pipe_gb_optim = Pipeline([('scl', StandardScaler()),\n",
    "                          ('gb', GradientBoostingClassifier(random_state=42,\n",
    "                                                      learning_rate=0.1,\n",
    "                                                      max_depth=3,\n",
    "                                                      n_estimators=50))])"
   ]
  },
  {
   "cell_type": "code",
   "execution_count": 277,
   "metadata": {},
   "outputs": [
    {
     "data": {
      "text/plain": [
       "VotingClassifier(estimators=[('knn', Pipeline(memory=None,\n",
       "     steps=[('scl', StandardScaler(copy=True, with_mean=True, with_std=True)), ('knn', KNeighborsClassifier(algorithm='auto', leaf_size=30, metric='minkowski',\n",
       "           metric_params=None, n_jobs=4, n_neighbors=15, p=2,\n",
       "           weights='uniform'))])), (...     presort='auto', random_state=42, subsample=1.0, verbose=0,\n",
       "              warm_start=False))]))],\n",
       "         flatten_transform=None, n_jobs=1, voting='hard', weights=None)"
      ]
     },
     "execution_count": 277,
     "metadata": {},
     "output_type": "execute_result"
    }
   ],
   "source": [
    "voting_clf_optim = VotingClassifier(\n",
    "    estimators=[('knn', pipe_knn_optim), ('lr', pipe_log_optim), ('tree', pipe_tree_optim),('forest', pipe_forest_optim),\n",
    "                ('adaboost', pipe_ada_optim), ('gradient boosting', pipe_gb_optim)], voting='hard')\n",
    "\n",
    "voting_clf.fit(X_train, Y_train)"
   ]
  },
  {
   "cell_type": "code",
   "execution_count": 278,
   "metadata": {},
   "outputs": [
    {
     "name": "stdout",
     "output_type": "stream",
     "text": [
      "Optimized Accuracies\n",
      "Accuracy: 0.43516 (+/- 0.00551) [KNN]\n",
      "Accuracy: 0.45396 (+/- 0.00468) [Reg Logistica]\n",
      "Accuracy: 0.44619 (+/- 0.01057) [tree]\n",
      "Accuracy: 0.45472 (+/- 0.01051) [forest]\n",
      "Accuracy: 0.46979 (+/- 0.01089) [Adaboost]\n",
      "Accuracy: 0.46688 (+/- 0.00846) [Gradient Boosting]\n",
      "Accuracy: 0.46764 (+/- 0.01013) [Ensemble]\n"
     ]
    }
   ],
   "source": [
    "print('Optimized Accuracies')\n",
    "for clf, label in zip([pipe_knn_optim, pipe_log_optim, pipe_tree_optim, pipe_forest_optim, \n",
    "                       pipe_ada_optim, pipe_gb_optim, voting_clf_optim],\n",
    "                      ['KNN', 'Reg Logistica', 'tree', 'forest', 'Adaboost', 'Gradient Boosting', 'Ensemble']):\n",
    "    scores = cross_val_score(clf, X, y, cv=5, scoring='accuracy')\n",
    "    \n",
    "    print(\"Accuracy: %0.5f (+/- %0.5f) [%s]\" % (scores.mean(), scores.std(), label))\n",
    "    \n",
    "#for some reason, optimized ensemble performed worse, but this should be the procedure"
   ]
  }
 ],
 "metadata": {
  "kernelspec": {
   "display_name": "Python 3",
   "language": "python",
   "name": "python3"
  },
  "language_info": {
   "codemirror_mode": {
    "name": "ipython",
    "version": 3
   },
   "file_extension": ".py",
   "mimetype": "text/x-python",
   "name": "python",
   "nbconvert_exporter": "python",
   "pygments_lexer": "ipython3",
   "version": "3.6.4"
  }
 },
 "nbformat": 4,
 "nbformat_minor": 2
}
